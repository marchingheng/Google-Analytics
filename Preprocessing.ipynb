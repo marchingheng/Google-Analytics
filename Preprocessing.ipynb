{
 "cells": [
  {
   "cell_type": "code",
   "execution_count": 6,
   "metadata": {
    "scrolled": true
   },
   "outputs": [
    {
     "name": "stdout",
     "output_type": "stream",
     "text": [
      "Loaded train_v2.csv. Shape: (100000, 59)\n",
      "(100000, 29)\n",
      "Loaded train_v2.csv. Shape: (100000, 60)\n",
      "(200000, 29)\n",
      "Loaded train_v2.csv. Shape: (100000, 59)\n",
      "(300000, 29)\n",
      "Loaded train_v2.csv. Shape: (100000, 59)\n",
      "(400000, 29)\n",
      "Loaded train_v2.csv. Shape: (100000, 59)\n",
      "(500000, 29)\n",
      "Loaded train_v2.csv. Shape: (100000, 59)\n",
      "(600000, 29)\n",
      "Loaded train_v2.csv. Shape: (100000, 59)\n",
      "(700000, 29)\n",
      "Loaded train_v2.csv. Shape: (100000, 59)\n",
      "(800000, 29)\n",
      "Loaded train_v2.csv. Shape: (100000, 59)\n",
      "(900000, 29)\n",
      "Loaded train_v2.csv. Shape: (100000, 59)\n",
      "(1000000, 29)\n",
      "Loaded train_v2.csv. Shape: (100000, 59)\n",
      "(1100000, 29)\n",
      "Loaded train_v2.csv. Shape: (100000, 59)\n",
      "(1200000, 29)\n",
      "Loaded train_v2.csv. Shape: (100000, 59)\n",
      "(1300000, 29)\n",
      "Loaded train_v2.csv. Shape: (100000, 59)\n",
      "(1400000, 29)\n",
      "Loaded train_v2.csv. Shape: (100000, 59)\n",
      "(1500000, 29)\n",
      "Loaded train_v2.csv. Shape: (100000, 59)\n",
      "(1600000, 29)\n",
      "Loaded train_v2.csv. Shape: (100000, 59)\n",
      "(1700000, 29)\n",
      "Loaded train_v2.csv. Shape: (8337, 59)\n",
      "(1708337, 29)\n"
     ]
    },
    {
     "data": {
      "text/plain": [
       "(1708337, 29)"
      ]
     },
     "execution_count": 6,
     "metadata": {},
     "output_type": "execute_result"
    }
   ],
   "source": [
    "import os\n",
    "import json\n",
    "import numpy as np\n",
    "import pandas as pd\n",
    "from pandas.io.json import json_normalize\n",
    "import gc\n",
    "gc.enable()\n",
    "features = ['channelGrouping', 'date', 'fullVisitorId', 'visitId',\\\n",
    "       'visitNumber', 'visitStartTime', 'device.browser',\\\n",
    "       'device.deviceCategory', 'device.isMobile', 'device.operatingSystem',\\\n",
    "       'geoNetwork.city', 'geoNetwork.continent', 'geoNetwork.country',\\\n",
    "       'geoNetwork.metro', 'geoNetwork.networkDomain', 'geoNetwork.region',\\\n",
    "       'geoNetwork.subContinent', 'totals.bounces', 'totals.hits',\\\n",
    "       'totals.newVisits', 'totals.pageviews', 'totals.transactionRevenue',\\\n",
    "       'trafficSource.adContent', 'trafficSource.campaign',\\\n",
    "       'trafficSource.isTrueDirect', 'trafficSource.keyword',\\\n",
    "       'trafficSource.medium', 'trafficSource.referralPath',\\\n",
    "       'trafficSource.source']\n",
    "def load_df(csv_path='./input/train_v2.csv'):\n",
    "    JSON_COLUMNS = ['device', 'geoNetwork', 'totals', 'trafficSource']\n",
    "    ans = pd.DataFrame()\n",
    "    dfs = pd.read_csv(csv_path, sep=',',\n",
    "                     converters={column: json.loads for column in JSON_COLUMNS}, \n",
    "                     dtype={'fullVisitorId': 'str'}, # Important!!\n",
    "                    chunksize = 100000)\n",
    "    for df in dfs:\n",
    "        df.reset_index(drop = True,inplace = True)\n",
    "        for column in JSON_COLUMNS:\n",
    "            column_as_df = json_normalize(df[column])\n",
    "            column_as_df.columns = [f\"{column}.{subcolumn}\" for subcolumn in column_as_df.columns]\n",
    "            df = df.drop(column, axis=1).merge(column_as_df, right_index=True, left_index=True)\n",
    "\n",
    "        print(f\"Loaded {os.path.basename(csv_path)}. Shape: {df.shape}\")\n",
    "        use_df = df[features]\n",
    "        del df\n",
    "        gc.collect()\n",
    "        ans = pd.concat([ans, use_df], axis = 0).reset_index(drop = True)\n",
    "        print(ans.shape)\n",
    "    return ans\n",
    "\n",
    "train = load_df()\n",
    "train.shape"
   ]
  },
  {
   "cell_type": "code",
   "execution_count": 8,
   "metadata": {},
   "outputs": [
    {
     "name": "stdout",
     "output_type": "stream",
     "text": [
      "Loaded test_v2.csv. Shape: (100000, 59)\n",
      "(100000, 29)\n",
      "Loaded test_v2.csv. Shape: (100000, 59)\n",
      "(200000, 29)\n",
      "Loaded test_v2.csv. Shape: (100000, 59)\n",
      "(300000, 29)\n",
      "Loaded test_v2.csv. Shape: (100000, 59)\n",
      "(400000, 29)\n",
      "Loaded test_v2.csv. Shape: (1589, 59)\n",
      "(401589, 29)\n"
     ]
    }
   ],
   "source": [
    "test = load_df('./input/test_v2.csv')"
   ]
  },
  {
   "cell_type": "code",
   "execution_count": 9,
   "metadata": {
    "_uuid": "302c2b9449b6173ed44ad1d27d3547573368afd4",
    "collapsed": true
   },
   "outputs": [],
   "source": [
    "train.to_csv(\"./input/train.csv\", index=False)\n",
    "test.to_csv(\"./input/test.csv\", index = False)"
   ]
  }
 ],
 "metadata": {
  "kernelspec": {
   "display_name": "Python 3",
   "language": "python",
   "name": "python3"
  },
  "language_info": {
   "codemirror_mode": {
    "name": "ipython",
    "version": 3
   },
   "file_extension": ".py",
   "mimetype": "text/x-python",
   "name": "python",
   "nbconvert_exporter": "python",
   "pygments_lexer": "ipython3",
   "version": "3.6.3"
  }
 },
 "nbformat": 4,
 "nbformat_minor": 1
}
